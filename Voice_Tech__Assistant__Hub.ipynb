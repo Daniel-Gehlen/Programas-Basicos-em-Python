{
  "cells": [
    {
      "cell_type": "markdown",
      "metadata": {
        "id": "view-in-github",
        "colab_type": "text"
      },
      "source": [
        "<a href=\"https://colab.research.google.com/github/Daniel-Gehlen/PythonProgrammingProjects1/blob/main/Voice_Tech__Assistant__Hub.ipynb\" target=\"_parent\"><img src=\"https://colab.research.google.com/assets/colab-badge.svg\" alt=\"Open In Colab\"/></a>"
      ]
    },
    {
      "cell_type": "code",
      "source": [
        "!apt-get install -y python3-pyaudio\n",
        "!pip install SpeechRecognition\n",
        "!pip install pyttsx3\n"
      ],
      "metadata": {
        "colab": {
          "base_uri": "https://localhost:8080/"
        },
        "id": "CmrQG_HPw_FI",
        "outputId": "637e88f8-508f-42bb-9873-cdf7e8ab7d45"
      },
      "execution_count": 5,
      "outputs": [
        {
          "output_type": "stream",
          "name": "stdout",
          "text": [
            "Reading package lists... Done\n",
            "Building dependency tree... Done\n",
            "Reading state information... Done\n",
            "python3-pyaudio is already the newest version (0.2.11-1.3ubuntu1).\n",
            "0 upgraded, 0 newly installed, 0 to remove and 24 not upgraded.\n",
            "Requirement already satisfied: SpeechRecognition in /usr/local/lib/python3.10/dist-packages (3.10.1)\n",
            "Requirement already satisfied: requests>=2.26.0 in /usr/local/lib/python3.10/dist-packages (from SpeechRecognition) (2.31.0)\n",
            "Requirement already satisfied: typing-extensions in /usr/local/lib/python3.10/dist-packages (from SpeechRecognition) (4.5.0)\n",
            "Requirement already satisfied: charset-normalizer<4,>=2 in /usr/local/lib/python3.10/dist-packages (from requests>=2.26.0->SpeechRecognition) (3.3.2)\n",
            "Requirement already satisfied: idna<4,>=2.5 in /usr/local/lib/python3.10/dist-packages (from requests>=2.26.0->SpeechRecognition) (3.6)\n",
            "Requirement already satisfied: urllib3<3,>=1.21.1 in /usr/local/lib/python3.10/dist-packages (from requests>=2.26.0->SpeechRecognition) (2.0.7)\n",
            "Requirement already satisfied: certifi>=2017.4.17 in /usr/local/lib/python3.10/dist-packages (from requests>=2.26.0->SpeechRecognition) (2023.11.17)\n",
            "Collecting pyttsx3\n",
            "  Using cached pyttsx3-2.90-py3-none-any.whl (39 kB)\n",
            "Installing collected packages: pyttsx3\n",
            "Successfully installed pyttsx3-2.90\n"
          ]
        }
      ]
    },
    {
      "cell_type": "code",
      "source": [
        "!pip install wikipedia-api\n"
      ],
      "metadata": {
        "colab": {
          "base_uri": "https://localhost:8080/"
        },
        "id": "gtVMjH7lxSa7",
        "outputId": "79303fdd-1e0c-460b-e0c2-4fd4a134cf03"
      },
      "execution_count": 7,
      "outputs": [
        {
          "output_type": "stream",
          "name": "stdout",
          "text": [
            "Collecting wikipedia-api\n",
            "  Downloading Wikipedia_API-0.6.0-py3-none-any.whl (14 kB)\n",
            "Requirement already satisfied: requests in /usr/local/lib/python3.10/dist-packages (from wikipedia-api) (2.31.0)\n",
            "Requirement already satisfied: charset-normalizer<4,>=2 in /usr/local/lib/python3.10/dist-packages (from requests->wikipedia-api) (3.3.2)\n",
            "Requirement already satisfied: idna<4,>=2.5 in /usr/local/lib/python3.10/dist-packages (from requests->wikipedia-api) (3.6)\n",
            "Requirement already satisfied: urllib3<3,>=1.21.1 in /usr/local/lib/python3.10/dist-packages (from requests->wikipedia-api) (2.0.7)\n",
            "Requirement already satisfied: certifi>=2017.4.17 in /usr/local/lib/python3.10/dist-packages (from requests->wikipedia-api) (2023.11.17)\n",
            "Installing collected packages: wikipedia-api\n",
            "Successfully installed wikipedia-api-0.6.0\n"
          ]
        }
      ]
    },
    {
      "cell_type": "code",
      "source": [
        "!apt-get install espeak\n"
      ],
      "metadata": {
        "colab": {
          "base_uri": "https://localhost:8080/"
        },
        "id": "-IxZAhtqzGwO",
        "outputId": "8f5c69ed-7d15-4ae8-8be5-a5adb722257f"
      },
      "execution_count": 15,
      "outputs": [
        {
          "output_type": "stream",
          "name": "stdout",
          "text": [
            "Reading package lists... Done\n",
            "Building dependency tree... Done\n",
            "Reading state information... Done\n",
            "The following additional packages will be installed:\n",
            "  espeak-data libespeak1 libsonic0\n",
            "The following NEW packages will be installed:\n",
            "  espeak espeak-data libespeak1 libsonic0\n",
            "0 upgraded, 4 newly installed, 0 to remove and 24 not upgraded.\n",
            "Need to get 1,316 kB of archives.\n",
            "After this operation, 2,955 kB of additional disk space will be used.\n",
            "Get:1 http://archive.ubuntu.com/ubuntu jammy/main amd64 libsonic0 amd64 0.2.0-11build1 [10.3 kB]\n",
            "Get:2 http://archive.ubuntu.com/ubuntu jammy/universe amd64 espeak-data amd64 1.48.15+dfsg-3 [1,085 kB]\n",
            "Get:3 http://archive.ubuntu.com/ubuntu jammy/universe amd64 libespeak1 amd64 1.48.15+dfsg-3 [156 kB]\n",
            "Get:4 http://archive.ubuntu.com/ubuntu jammy/universe amd64 espeak amd64 1.48.15+dfsg-3 [64.2 kB]\n",
            "Fetched 1,316 kB in 1s (1,548 kB/s)\n",
            "Selecting previously unselected package libsonic0:amd64.\n",
            "(Reading database ... 121675 files and directories currently installed.)\n",
            "Preparing to unpack .../libsonic0_0.2.0-11build1_amd64.deb ...\n",
            "Unpacking libsonic0:amd64 (0.2.0-11build1) ...\n",
            "Selecting previously unselected package espeak-data:amd64.\n",
            "Preparing to unpack .../espeak-data_1.48.15+dfsg-3_amd64.deb ...\n",
            "Unpacking espeak-data:amd64 (1.48.15+dfsg-3) ...\n",
            "Selecting previously unselected package libespeak1:amd64.\n",
            "Preparing to unpack .../libespeak1_1.48.15+dfsg-3_amd64.deb ...\n",
            "Unpacking libespeak1:amd64 (1.48.15+dfsg-3) ...\n",
            "Selecting previously unselected package espeak.\n",
            "Preparing to unpack .../espeak_1.48.15+dfsg-3_amd64.deb ...\n",
            "Unpacking espeak (1.48.15+dfsg-3) ...\n",
            "Setting up libsonic0:amd64 (0.2.0-11build1) ...\n",
            "Setting up espeak-data:amd64 (1.48.15+dfsg-3) ...\n",
            "Setting up libespeak1:amd64 (1.48.15+dfsg-3) ...\n",
            "Setting up espeak (1.48.15+dfsg-3) ...\n",
            "Processing triggers for man-db (2.10.2-1) ...\n",
            "Processing triggers for libc-bin (2.35-0ubuntu3.4) ...\n",
            "/sbin/ldconfig.real: /usr/local/lib/libtbbmalloc.so.2 is not a symbolic link\n",
            "\n",
            "/sbin/ldconfig.real: /usr/local/lib/libtbbmalloc_proxy.so.2 is not a symbolic link\n",
            "\n",
            "/sbin/ldconfig.real: /usr/local/lib/libtbbbind_2_0.so.3 is not a symbolic link\n",
            "\n",
            "/sbin/ldconfig.real: /usr/local/lib/libtbbbind_2_5.so.3 is not a symbolic link\n",
            "\n",
            "/sbin/ldconfig.real: /usr/local/lib/libtbbbind.so.3 is not a symbolic link\n",
            "\n",
            "/sbin/ldconfig.real: /usr/local/lib/libtbb.so.12 is not a symbolic link\n",
            "\n"
          ]
        }
      ]
    },
    {
      "cell_type": "code",
      "source": [
        "import webbrowser\n",
        "import pyttsx3\n",
        "import wikipediaapi\n",
        "import geocoder\n",
        "\n",
        "# Inicializa o mecanismo de texto para fala (TTS)\n",
        "engine = pyttsx3.init()\n",
        "\n",
        "# Configuração do cliente Wikipedia\n",
        "wiki_wiki = wikipediaapi.Wikipedia('pt', extract_format=wikipediaapi.ExtractFormat.WIKI, headers={'User-Agent': 'Mozilla/5.0 (Windows NT 10.0; Win64; x64; rv:99.0) Gecko/20100101 Firefox/99.0'})\n",
        "\n",
        "# Função para transformar texto em áudio\n",
        "def text_to_speech(text):\n",
        "    global engine\n",
        "    engine.say(text)\n",
        "    engine.runAndWait()\n",
        "\n",
        "# Função para abrir um site\n",
        "def open_website(site):\n",
        "    webbrowser.open_new_tab(site)\n",
        "\n",
        "# Função para executar comandos de texto\n",
        "def execute_text_command(command):\n",
        "    if command == \"1\":\n",
        "        query = input(\"Digite o termo de pesquisa para a Wikipedia: \")\n",
        "        page_py = wiki_wiki.page(query)\n",
        "        if page_py.exists():\n",
        "            result = page_py.summary[:250]  # Limita o resumo a 250 caracteres para evitar respostas muito longas\n",
        "            print(result)\n",
        "            text_to_speech(result)\n",
        "        else:\n",
        "            print(f\"Página para '{query}' não encontrada na Wikipedia.\")\n",
        "            text_to_speech(f\"Página para '{query}' não encontrada na Wikipedia.\")\n",
        "    elif command == \"2\":\n",
        "        site_name = input(\"Digite o assunto do site que deseja visitar: \")\n",
        "        site_url = f\"https://www.{site_name}.com/\"\n",
        "        print(f\"Abrindo o site: {site_url}\")\n",
        "        text_to_speech(f\"Abrindo o site {site_name}.\")\n",
        "        open_website(site_url)\n",
        "    elif command == \"3\":\n",
        "        # Simulando a obtenção da localização da farmácia mais próxima\n",
        "        g = geocoder.ip('me')\n",
        "        location = g.latlng\n",
        "        print(f\"Localização da farmácia mais próxima: {location}\")\n",
        "        text_to_speech(f\"A farmácia mais próxima está localizada em {location[0]} latitude e {location[1]} longitude.\")\n",
        "    else:\n",
        "        print(\"Comando não reconhecido.\")\n",
        "\n",
        "# Função principal\n",
        "def main():\n",
        "    while True:\n",
        "        print(\"Escolha um comando:\")\n",
        "        print(\"1. Pesquisar na Wikipedia\")\n",
        "        print(\"2. Abrir site\")\n",
        "        print(\"3. Localizar a farmácia mais próxima\")\n",
        "        print(\"4. Encerrar\")\n",
        "\n",
        "        user_input = input(\"Digite o número do comando desejado: \")\n",
        "        if user_input == \"4\":\n",
        "            print(\"Encerrando assistência virtual.\")\n",
        "            break\n",
        "        else:\n",
        "            execute_text_command(user_input)\n",
        "\n",
        "if __name__ == \"__main__\":\n",
        "    main()\n"
      ],
      "metadata": {
        "colab": {
          "base_uri": "https://localhost:8080/"
        },
        "id": "bixDopHL0Kyo",
        "outputId": "f9b35c65-da56-4f68-824d-af24342d0053"
      },
      "execution_count": null,
      "outputs": [
        {
          "output_type": "stream",
          "name": "stdout",
          "text": [
            "Escolha um comando:\n",
            "1. Pesquisar na Wikipedia\n",
            "2. Abrir site\n",
            "3. Localizar a farmácia mais próxima\n",
            "4. Encerrar\n",
            "Digite o número do comando desejado: 2\n",
            "Digite o assunto do site que deseja visitar: sun\n",
            "Abrindo o site: https://www.sun.com/\n",
            "Escolha um comando:\n",
            "1. Pesquisar na Wikipedia\n",
            "2. Abrir site\n",
            "3. Localizar a farmácia mais próxima\n",
            "4. Encerrar\n",
            "Digite o número do comando desejado: 2\n",
            "Digite o assunto do site que deseja visitar: youtube\n",
            "Abrindo o site: https://www.youtube.com/\n",
            "Escolha um comando:\n",
            "1. Pesquisar na Wikipedia\n",
            "2. Abrir site\n",
            "3. Localizar a farmácia mais próxima\n",
            "4. Encerrar\n"
          ]
        }
      ]
    },
    {
      "cell_type": "markdown",
      "source": [
        "# Report: Virtual Assistant with Text Recognition and Voice Commands\n",
        "\n",
        "## Introduction:\n",
        "The proposed project aimed to create a virtual assistant that utilizes Natural Language Processing (NLP) for specific tasks through voice recognition. The initial idea included modules for transforming text into audio (TTS) and speech into text (STT), along with automated functions triggered by voice commands.\n",
        "\n",
        "## Methods:\n",
        "1. **Environment Setup:**\n",
        "   - Installation of necessary libraries: `pyaudio`, `SpeechRecognition`, `pyttsx3`, `wikipedia-api`.\n",
        "   - Installation of the `espeak` package.\n",
        "\n",
        "2. **Implementation of Modules:**\n",
        "   - TTS Module: Utilized the `pyttsx3` library to convert text into speech.\n",
        "   - STT Module: Utilized the `SpeechRecognition` library to recognize speech and convert it into text.\n",
        "   - Command Execution Module: Implemented specific commands, such as Wikipedia search, opening websites, and simulating the location of the nearest pharmacy.\n",
        "\n",
        "3. **Simplification of the Project:**\n",
        "   - Due to limitations in the Google Colab environment, which prevents interactive execution of voice commands, it was decided to accept commands via text.\n",
        "   - The \"Open site\" option was enhanced to allow the user to enter the subject of the desired site.\n",
        "\n",
        "## Results:\n",
        "The project resulted in a functional virtual assistant capable of receiving text commands and performing actions such as Wikipedia search, opening websites, and simulating the location of the nearest pharmacy.\n",
        "\n",
        "## Conclusion:\n",
        "The transformation from the initial project, which included voice recognition, to a simpler text-based interaction was necessary to work around the limitations of the Colab environment. Despite the simplification, the virtual assistant still offers useful functionalities and an interactive experience.\n",
        "\n",
        "## Contrast with the Initial Idea:\n",
        "The initial idea was to create an assistant entirely based on voice, but the constraints of the environment necessitated a more text-centric approach. The change not only adapted the project to limitations but also demonstrated flexibility in designing solutions.\n",
        "\n",
        "## Use Case:\n",
        "Consider a user who wants to learn about a specific topic. They use the assistant to search Wikipedia by typing the command \"1\" and entering the search term. The response is synthesized into audio, providing an educational experience without requiring complex interactions.\n",
        "\n",
        "This project exemplifies how adaptation is crucial in restricted development environments while maintaining the effectiveness and usefulness of the final product.\n"
      ],
      "metadata": {
        "id": "ergUyInq1nkV"
      }
    }
  ],
  "metadata": {
    "colab": {
      "toc_visible": true,
      "provenance": [],
      "authorship_tag": "ABX9TyOg9fwkijPNk2sSog5l7+a1",
      "include_colab_link": true
    },
    "kernelspec": {
      "display_name": "Python 3",
      "name": "python3"
    },
    "language_info": {
      "name": "python"
    }
  },
  "nbformat": 4,
  "nbformat_minor": 0
}