{
  "nbformat": 4,
  "nbformat_minor": 0,
  "metadata": {
    "colab": {
      "provenance": [],
      "authorship_tag": "ABX9TyMKKj0vUEnW/lrGtGA4a16Y",
      "include_colab_link": true
    },
    "kernelspec": {
      "name": "python3",
      "display_name": "Python 3"
    },
    "language_info": {
      "name": "python"
    }
  },
  "cells": [
    {
      "cell_type": "markdown",
      "metadata": {
        "id": "view-in-github",
        "colab_type": "text"
      },
      "source": [
        "<a href=\"https://colab.research.google.com/github/Daniel-Gehlen/PythonProgrammingProjects1/blob/main/Flask_API.ipynb\" target=\"_parent\"><img src=\"https://colab.research.google.com/assets/colab-badge.svg\" alt=\"Open In Colab\"/></a>"
      ]
    },
    {
      "cell_type": "code",
      "execution_count": 1,
      "metadata": {
        "colab": {
          "base_uri": "https://localhost:8080/"
        },
        "id": "nMDmAML1Kd9m",
        "outputId": "ad646378-bf7b-44e9-96d4-9f88daf6f575"
      },
      "outputs": [
        {
          "output_type": "stream",
          "name": "stdout",
          "text": [
            "Requirement already satisfied: flask in /usr/local/lib/python3.10/dist-packages (2.2.5)\n",
            "Requirement already satisfied: Werkzeug>=2.2.2 in /usr/local/lib/python3.10/dist-packages (from flask) (3.0.1)\n",
            "Requirement already satisfied: Jinja2>=3.0 in /usr/local/lib/python3.10/dist-packages (from flask) (3.1.3)\n",
            "Requirement already satisfied: itsdangerous>=2.0 in /usr/local/lib/python3.10/dist-packages (from flask) (2.1.2)\n",
            "Requirement already satisfied: click>=8.0 in /usr/local/lib/python3.10/dist-packages (from flask) (8.1.7)\n",
            "Requirement already satisfied: MarkupSafe>=2.0 in /usr/local/lib/python3.10/dist-packages (from Jinja2>=3.0->flask) (2.1.5)\n"
          ]
        }
      ],
      "source": [
        "!pip install flask\n",
        "from flask import Flask, jsonify\n",
        "\n",
        "app = Flask(__name__)\n"
      ]
    },
    {
      "cell_type": "code",
      "source": [
        "import json\n",
        "\n",
        "# Caminho para o arquivo JSON de exemplo no Google Colab\n",
        "json_file_path = '/content/sample_data/anscombe.json'\n",
        "\n",
        "# Carregar os dados do JSON\n",
        "with open(json_file_path, 'r') as file:\n",
        "    dados = json.load(file)\n",
        "\n",
        "print(\"Dados carregados com sucesso.\")\n",
        "\n",
        "# Exibindo os dados para verificação\n",
        "print(dados)\n"
      ],
      "metadata": {
        "colab": {
          "base_uri": "https://localhost:8080/"
        },
        "id": "FvGFY-YvKq26",
        "outputId": "c66e5ab6-c7e9-4e06-f266-1a4cb261c81a"
      },
      "execution_count": 4,
      "outputs": [
        {
          "output_type": "stream",
          "name": "stdout",
          "text": [
            "Dados carregados com sucesso.\n",
            "[{'Series': 'I', 'X': 10.0, 'Y': 8.04}, {'Series': 'I', 'X': 8.0, 'Y': 6.95}, {'Series': 'I', 'X': 13.0, 'Y': 7.58}, {'Series': 'I', 'X': 9.0, 'Y': 8.81}, {'Series': 'I', 'X': 11.0, 'Y': 8.33}, {'Series': 'I', 'X': 14.0, 'Y': 9.96}, {'Series': 'I', 'X': 6.0, 'Y': 7.24}, {'Series': 'I', 'X': 4.0, 'Y': 4.26}, {'Series': 'I', 'X': 12.0, 'Y': 10.84}, {'Series': 'I', 'X': 7.0, 'Y': 4.81}, {'Series': 'I', 'X': 5.0, 'Y': 5.68}, {'Series': 'II', 'X': 10.0, 'Y': 9.14}, {'Series': 'II', 'X': 8.0, 'Y': 8.14}, {'Series': 'II', 'X': 13.0, 'Y': 8.74}, {'Series': 'II', 'X': 9.0, 'Y': 8.77}, {'Series': 'II', 'X': 11.0, 'Y': 9.26}, {'Series': 'II', 'X': 14.0, 'Y': 8.1}, {'Series': 'II', 'X': 6.0, 'Y': 6.13}, {'Series': 'II', 'X': 4.0, 'Y': 3.1}, {'Series': 'II', 'X': 12.0, 'Y': 9.13}, {'Series': 'II', 'X': 7.0, 'Y': 7.26}, {'Series': 'II', 'X': 5.0, 'Y': 4.74}, {'Series': 'III', 'X': 10.0, 'Y': 7.46}, {'Series': 'III', 'X': 8.0, 'Y': 6.77}, {'Series': 'III', 'X': 13.0, 'Y': 12.74}, {'Series': 'III', 'X': 9.0, 'Y': 7.11}, {'Series': 'III', 'X': 11.0, 'Y': 7.81}, {'Series': 'III', 'X': 14.0, 'Y': 8.84}, {'Series': 'III', 'X': 6.0, 'Y': 6.08}, {'Series': 'III', 'X': 4.0, 'Y': 5.39}, {'Series': 'III', 'X': 12.0, 'Y': 8.15}, {'Series': 'III', 'X': 7.0, 'Y': 6.42}, {'Series': 'III', 'X': 5.0, 'Y': 5.73}, {'Series': 'IV', 'X': 8.0, 'Y': 6.58}, {'Series': 'IV', 'X': 8.0, 'Y': 5.76}, {'Series': 'IV', 'X': 8.0, 'Y': 7.71}, {'Series': 'IV', 'X': 8.0, 'Y': 8.84}, {'Series': 'IV', 'X': 8.0, 'Y': 8.47}, {'Series': 'IV', 'X': 8.0, 'Y': 7.04}, {'Series': 'IV', 'X': 8.0, 'Y': 5.25}, {'Series': 'IV', 'X': 19.0, 'Y': 12.5}, {'Series': 'IV', 'X': 8.0, 'Y': 5.56}, {'Series': 'IV', 'X': 8.0, 'Y': 7.91}, {'Series': 'IV', 'X': 8.0, 'Y': 6.89}]\n"
          ]
        }
      ]
    },
    {
      "cell_type": "code",
      "source": [
        "from flask import Flask, jsonify\n",
        "import json\n",
        "from IPython.display import HTML\n",
        "\n",
        "# Inicializar o Flask\n",
        "app = Flask(__name__)\n",
        "\n",
        "# Caminho para o arquivo JSON de exemplo no Google Colab\n",
        "json_file_path = '/content/sample_data/anscombe.json'\n",
        "\n",
        "# Carregar os dados do JSON\n",
        "with open(json_file_path, 'r') as file:\n",
        "    dados = json.load(file)\n",
        "\n",
        "# Definir o endpoint /dados para retornar os dados do JSON em uma tabela HTML\n",
        "@app.route('/dados', methods=['GET'])\n",
        "def get_dados():\n",
        "    # Inicializar a string da tabela HTML\n",
        "    html_table = '<table border=\"1\">'\n",
        "\n",
        "    # Adicionar cabeçalhos da tabela\n",
        "    html_table += '<tr>'\n",
        "    for key in dados[0].keys():\n",
        "        html_table += f'<th>{key}</th>'\n",
        "    html_table += '</tr>'\n",
        "\n",
        "    # Adicionar linhas da tabela\n",
        "    for row in dados:\n",
        "        html_table += '<tr>'\n",
        "        for value in row.values():\n",
        "            html_table += f'<td>{value}</td>'\n",
        "        html_table += '</tr>'\n",
        "\n",
        "    # Fechar a tabela HTML\n",
        "    html_table += '</table>'\n",
        "\n",
        "    return html_table\n",
        "\n",
        "# Obter a tabela HTML e exibi-la diretamente no notebook\n",
        "HTML(get_dados())\n"
      ],
      "metadata": {
        "colab": {
          "base_uri": "https://localhost:8080/",
          "height": 1000
        },
        "id": "V7FZ4u7xLSTW",
        "outputId": "2c6f37cc-0ca9-4331-e8c8-9b5a6f8509ce"
      },
      "execution_count": 9,
      "outputs": [
        {
          "output_type": "execute_result",
          "data": {
            "text/plain": [
              "<IPython.core.display.HTML object>"
            ],
            "text/html": [
              "<table border=\"1\"><tr><th>Series</th><th>X</th><th>Y</th></tr><tr><td>I</td><td>10.0</td><td>8.04</td></tr><tr><td>I</td><td>8.0</td><td>6.95</td></tr><tr><td>I</td><td>13.0</td><td>7.58</td></tr><tr><td>I</td><td>9.0</td><td>8.81</td></tr><tr><td>I</td><td>11.0</td><td>8.33</td></tr><tr><td>I</td><td>14.0</td><td>9.96</td></tr><tr><td>I</td><td>6.0</td><td>7.24</td></tr><tr><td>I</td><td>4.0</td><td>4.26</td></tr><tr><td>I</td><td>12.0</td><td>10.84</td></tr><tr><td>I</td><td>7.0</td><td>4.81</td></tr><tr><td>I</td><td>5.0</td><td>5.68</td></tr><tr><td>II</td><td>10.0</td><td>9.14</td></tr><tr><td>II</td><td>8.0</td><td>8.14</td></tr><tr><td>II</td><td>13.0</td><td>8.74</td></tr><tr><td>II</td><td>9.0</td><td>8.77</td></tr><tr><td>II</td><td>11.0</td><td>9.26</td></tr><tr><td>II</td><td>14.0</td><td>8.1</td></tr><tr><td>II</td><td>6.0</td><td>6.13</td></tr><tr><td>II</td><td>4.0</td><td>3.1</td></tr><tr><td>II</td><td>12.0</td><td>9.13</td></tr><tr><td>II</td><td>7.0</td><td>7.26</td></tr><tr><td>II</td><td>5.0</td><td>4.74</td></tr><tr><td>III</td><td>10.0</td><td>7.46</td></tr><tr><td>III</td><td>8.0</td><td>6.77</td></tr><tr><td>III</td><td>13.0</td><td>12.74</td></tr><tr><td>III</td><td>9.0</td><td>7.11</td></tr><tr><td>III</td><td>11.0</td><td>7.81</td></tr><tr><td>III</td><td>14.0</td><td>8.84</td></tr><tr><td>III</td><td>6.0</td><td>6.08</td></tr><tr><td>III</td><td>4.0</td><td>5.39</td></tr><tr><td>III</td><td>12.0</td><td>8.15</td></tr><tr><td>III</td><td>7.0</td><td>6.42</td></tr><tr><td>III</td><td>5.0</td><td>5.73</td></tr><tr><td>IV</td><td>8.0</td><td>6.58</td></tr><tr><td>IV</td><td>8.0</td><td>5.76</td></tr><tr><td>IV</td><td>8.0</td><td>7.71</td></tr><tr><td>IV</td><td>8.0</td><td>8.84</td></tr><tr><td>IV</td><td>8.0</td><td>8.47</td></tr><tr><td>IV</td><td>8.0</td><td>7.04</td></tr><tr><td>IV</td><td>8.0</td><td>5.25</td></tr><tr><td>IV</td><td>19.0</td><td>12.5</td></tr><tr><td>IV</td><td>8.0</td><td>5.56</td></tr><tr><td>IV</td><td>8.0</td><td>7.91</td></tr><tr><td>IV</td><td>8.0</td><td>6.89</td></tr></table>"
            ]
          },
          "metadata": {},
          "execution_count": 9
        }
      ]
    }
  ]
}