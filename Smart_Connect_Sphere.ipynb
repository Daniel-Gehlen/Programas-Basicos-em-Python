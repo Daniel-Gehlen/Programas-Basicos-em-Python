{
  "nbformat": 4,
  "nbformat_minor": 0,
  "metadata": {
    "colab": {
      "provenance": [],
      "authorship_tag": "ABX9TyNKhQP4ArtX1fE6CEkSFnJ4",
      "include_colab_link": true
    },
    "kernelspec": {
      "name": "python3",
      "display_name": "Python 3"
    },
    "language_info": {
      "name": "python"
    }
  },
  "cells": [
    {
      "cell_type": "markdown",
      "metadata": {
        "id": "view-in-github",
        "colab_type": "text"
      },
      "source": [
        "<a href=\"https://colab.research.google.com/github/Daniel-Gehlen/PythonProgrammingProjects1/blob/main/Smart_Connect_Sphere.ipynb\" target=\"_parent\"><img src=\"https://colab.research.google.com/assets/colab-badge.svg\" alt=\"Open In Colab\"/></a>"
      ]
    },
    {
      "cell_type": "code",
      "execution_count": 1,
      "metadata": {
        "colab": {
          "base_uri": "https://localhost:8080/"
        },
        "id": "twYeNQ-X8G0D",
        "outputId": "c4804f07-3327-4f13-f91d-2c90ef2c028d"
      },
      "outputs": [
        {
          "output_type": "stream",
          "name": "stdout",
          "text": [
            "Collecting SpeechRecognition\n",
            "  Downloading SpeechRecognition-3.10.1-py2.py3-none-any.whl (32.8 MB)\n",
            "\u001b[2K     \u001b[90m━━━━━━━━━━━━━━━━━━━━━━━━━━━━━━━━━━━━━━━━\u001b[0m \u001b[32m32.8/32.8 MB\u001b[0m \u001b[31m13.8 MB/s\u001b[0m eta \u001b[36m0:00:00\u001b[0m\n",
            "\u001b[?25hRequirement already satisfied: requests>=2.26.0 in /usr/local/lib/python3.10/dist-packages (from SpeechRecognition) (2.31.0)\n",
            "Requirement already satisfied: typing-extensions in /usr/local/lib/python3.10/dist-packages (from SpeechRecognition) (4.5.0)\n",
            "Requirement already satisfied: charset-normalizer<4,>=2 in /usr/local/lib/python3.10/dist-packages (from requests>=2.26.0->SpeechRecognition) (3.3.2)\n",
            "Requirement already satisfied: idna<4,>=2.5 in /usr/local/lib/python3.10/dist-packages (from requests>=2.26.0->SpeechRecognition) (3.6)\n",
            "Requirement already satisfied: urllib3<3,>=1.21.1 in /usr/local/lib/python3.10/dist-packages (from requests>=2.26.0->SpeechRecognition) (2.0.7)\n",
            "Requirement already satisfied: certifi>=2017.4.17 in /usr/local/lib/python3.10/dist-packages (from requests>=2.26.0->SpeechRecognition) (2023.11.17)\n",
            "Installing collected packages: SpeechRecognition\n",
            "Successfully installed SpeechRecognition-3.10.1\n"
          ]
        }
      ],
      "source": [
        "!pip install SpeechRecognition\n"
      ]
    },
    {
      "cell_type": "code",
      "source": [
        "import time\n",
        "\n",
        "# Função para interpretar comandos de texto ou número\n",
        "def interpretar_comando():\n",
        "    print(\"Escolha uma opção:\")\n",
        "    print(\"1. Acender a lâmpada\")\n",
        "    print(\"2. Desligar a lâmpada\")\n",
        "    print(\"3. Ativar a sirene\")\n",
        "    print(\"0. Sair\")\n",
        "\n",
        "    escolha = input(\"Digite o número do comando ou o próprio comando: \").lower()\n",
        "    return escolha\n",
        "\n",
        "# Função para simular ação com base no comando\n",
        "def simular_acao(comando):\n",
        "    if \"1\" in comando or \"acender\" in comando and \"lâmpada\" in comando:\n",
        "        print(\"Simulando: Lâmpada acesa!\")\n",
        "    elif \"2\" in comando or \"desligar\" in comando and \"lâmpada\" in comando:\n",
        "        print(\"Simulando: Lâmpada apagada!\")\n",
        "    elif \"3\" in comando or \"ativar\" in comando and \"sirene\" in comando:\n",
        "        print(\"Simulando: Sirene ativada!\")\n",
        "    elif \"0\" in comando or \"sair\" in comando:\n",
        "        print(\"Saindo...\")\n",
        "        exit()\n",
        "    else:\n",
        "        print(\"Comando não reconhecido.\")\n",
        "\n",
        "# Loop principal\n",
        "while True:\n",
        "    comando = interpretar_comando()\n",
        "\n",
        "    if comando:\n",
        "        simular_acao(comando)\n",
        "\n",
        "    time.sleep(1)\n"
      ],
      "metadata": {
        "colab": {
          "base_uri": "https://localhost:8080/"
        },
        "id": "Pzn3Qyjs9HX-",
        "outputId": "c488111f-ec1e-40e9-de9a-40b2b09bcccd"
      },
      "execution_count": null,
      "outputs": [
        {
          "output_type": "stream",
          "name": "stdout",
          "text": [
            "Escolha uma opção:\n",
            "1. Acender a lâmpada\n",
            "2. Desligar a lâmpada\n",
            "3. Ativar a sirene\n",
            "0. Sair\n",
            "Digite o número do comando ou o próprio comando: 1\n",
            "Simulando: Lâmpada acesa!\n",
            "Escolha uma opção:\n",
            "1. Acender a lâmpada\n",
            "2. Desligar a lâmpada\n",
            "3. Ativar a sirene\n",
            "0. Sair\n",
            "Digite o número do comando ou o próprio comando: 2\n",
            "Simulando: Lâmpada apagada!\n",
            "Escolha uma opção:\n",
            "1. Acender a lâmpada\n",
            "2. Desligar a lâmpada\n",
            "3. Ativar a sirene\n",
            "0. Sair\n"
          ]
        }
      ]
    },
    {
      "cell_type": "markdown",
      "source": [
        "# Report: Virtual Assistant for Home Automation\n",
        "\n",
        "## Introduction:\n",
        "\n",
        "The project aims to create a virtual assistant for home automation, incorporating neural networks for voice command interpretation, and simulating Arduino devices, motors, lamps, sirens, and other automation elements. The main objective is to provide an interactive and educational experience, focusing on the integration of diverse technologies.\n",
        "\n",
        "## Methods:\n",
        "\n",
        "1. **Command Interpretation:**\n",
        "   - Use of the SpeechRecognition library for voice command interpretation.\n",
        "   - Text input option for enhanced accessibility and interaction.\n",
        "\n",
        "2. **Device Simulation:**\n",
        "   - Simulation of actions to turn on lamps, turn off lamps, and activate sirens.\n",
        "   - User interaction through a simple menu.\n",
        "\n",
        "## Results:\n",
        "\n",
        "The implementation has demonstrated success in interpreting voice commands and simulating device actions. The approach of allowing users to choose between numbers and keywords makes the system more flexible. The code provides an educational and practical experience, allowing users to understand the logic behind home automation.\n",
        "\n",
        "## Conclusion:\n",
        "\n",
        "The project achieves its goals, providing a solid foundation for understanding home automation, voice commands, and the integration of various technologies. Choosing to simulate actions instead of interacting with physical devices makes implementation in environments like Colab easier and provides a safe learning environment.\n",
        "\n",
        "## Case Study:\n",
        "\n",
        "Consider a scenario where the virtual assistant is implemented in a real environment with Arduino devices, lamps, motors, and sirens. In this case, integration with Arduino would be performed using the `pyserial` library for command sending. The virtual assistant would effectively control physical devices based on interpreted voice commands.\n",
        "\n",
        "## Parallel with the Initial Proposal:\n",
        "\n",
        "The initial proposal of the project was to create a virtual assistant for home automation, incorporating neural networks. Although the current code does not directly integrate neural networks, adding this layer could enhance the ability to interpret voice commands, allowing a more natural and personalized experience.\n",
        "\n",
        "Moreover, the current simulation provides a solid foundation before scaling to real implementation, ensuring fundamental concepts are understood before introducing more advanced technologies.\n",
        "\n",
        "## Final Conclusions:\n",
        "\n",
        "The home automation virtual assistant project represents a valuable educational opportunity to learn about device control, voice command interpretation, and technology integration. The modular and simulated approach creates an environment conducive to experimentation and conceptual understanding, paving the way for future expansions and enhancements.\n"
      ],
      "metadata": {
        "id": "GIV_I5Sk-cPj"
      }
    }
  ]
}